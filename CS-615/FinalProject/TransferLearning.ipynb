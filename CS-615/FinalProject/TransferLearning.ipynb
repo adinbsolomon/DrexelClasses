{
 "cells": [
  {
   "cell_type": "markdown",
   "source": [
    "## 0. Imports"
   ],
   "metadata": {}
  },
  {
   "cell_type": "code",
   "execution_count": 1,
   "source": [
    "from copy import deepcopy\r\n",
    "import cv2 as cv\r\n",
    "import imageio\r\n",
    "import matplotlib.pyplot as plt\r\n",
    "import numpy as np\r\n",
    "\r\n",
    "from MyPython import MyCV\r\n",
    "import MyData\r\n",
    "import MyML"
   ],
   "outputs": [],
   "metadata": {}
  },
  {
   "cell_type": "markdown",
   "source": [
    "## 1. Data Fetching"
   ],
   "metadata": {}
  },
  {
   "cell_type": "code",
   "execution_count": 2,
   "source": [
    "# Import Data\r\n",
    "keys = [\"X\", \"Mean\", \"Std\"]\r\n",
    "Numbers = {k:v for k,v in zip(keys, MyData.getNumbers())}\r\n",
    "Letters = {k:v for k,v in zip(keys, MyData.getLetters())}"
   ],
   "outputs": [],
   "metadata": {}
  },
  {
   "cell_type": "markdown",
   "source": [
    "## 2. Utility Functions"
   ],
   "metadata": {}
  },
  {
   "cell_type": "code",
   "execution_count": 3,
   "source": [
    "# Utils\r\n",
    "def verify(img): assert (img.shape in [(784,), (1,784)]), f\"should only get a single image, not {img.shape = }\"\r\n",
    "def reshape(img): return img.reshape(28,28)\r\n",
    "def scale(img): return cv.resize(img, dsize=(280,280), interpolation=cv.INTER_NEAREST)\r\n",
    "\r\n",
    "# Image Display and Insight\r\n",
    "def show_img(img, T=False):\r\n",
    "    img = scale(reshape(img))\r\n",
    "    if T: img = img.T\r\n",
    "    MyCV.show_img(img)\r\n",
    "def show_imgs(imgs): \r\n",
    "    for img in imgs: show_img(img)\r\n",
    "def img_summary(img):\r\n",
    "    verify(img)\r\n",
    "    return {'mean':np.average(img), 'std':np.std(img), 'min':np.min(img), 'max':np.max(img)}\r\n",
    "\r\n",
    "# Video Writing\r\n",
    "DEFAULT_fps = 4\r\n",
    "DEFAULT_mbs = 14\r\n",
    "def save_video(filename, imgs, fps=DEFAULT_fps, mbs=DEFAULT_mbs):\r\n",
    "    imageio.mimwrite(filename, imgs, fps=fps, macro_block_size=mbs)"
   ],
   "outputs": [],
   "metadata": {}
  },
  {
   "cell_type": "markdown",
   "source": [
    "## 3. Train Pre-Transfer Models"
   ],
   "metadata": {}
  },
  {
   "cell_type": "markdown",
   "source": [
    "### Number GANs"
   ],
   "metadata": {}
  },
  {
   "cell_type": "code",
   "execution_count": 4,
   "source": [
    "# 1. Number Models\r\n",
    "NumberModels = dict()\r\n",
    "nums = (0,1,2,3,4,5)\r\n",
    "for num in nums:\r\n",
    "    # Initialize Model\r\n",
    "    model = MyML.GenerativeAdversarialModel(\r\n",
    "        Data = Numbers[\"X\"][num],\r\n",
    "        DataMean = Numbers[\"Mean\"][num],\r\n",
    "        DataStd = Numbers[\"Std\"][num],\r\n",
    "        no_std = True,\r\n",
    "        Bounds = [0,255],\r\n",
    "        GeneratorLayers = [\r\n",
    "            #MyML.FullyConnectedLayer(784, 784),\r\n",
    "            #MyML.LinearLayer(),\r\n",
    "            MyML.FullyConnectedLayer(784, 784),\r\n",
    "            MyML.LinearLayer()\r\n",
    "        ],\r\n",
    "        DescriminatorLayers = [\r\n",
    "            #MyML.FullyConnectedLayer(784, 1),\r\n",
    "            #MyML.LinearLayer(),\r\n",
    "            MyML.FullyConnectedLayer(784, 1),\r\n",
    "            MyML.SigmoidLayer()\r\n",
    "        ]\r\n",
    "    )\r\n",
    "    # Train Model\r\n",
    "    imgs = model.train(100, 10 ** -20, 10)\r\n",
    "    # Same Training Process in Video\r\n",
    "    save_video(f\"videos/transfer/Pre-Trained-{num}.mp4\", (scale(reshape(img)) for img in imgs), fps=10)\r\n",
    "    # Store Model in Dictionary\r\n",
    "    NumberModels[num] = model"
   ],
   "outputs": [
    {
     "output_type": "stream",
     "name": "stderr",
     "text": [
      "100%|██████████| 100/100 [00:00<00:00, 908.38it/s]\n",
      "100%|██████████| 100/100 [00:00<00:00, 980.40it/s]\n",
      "100%|██████████| 100/100 [00:00<00:00, 1010.33it/s]\n",
      "100%|██████████| 100/100 [00:00<00:00, 1038.34it/s]\n",
      "100%|██████████| 100/100 [00:00<00:00, 1052.31it/s]\n",
      "100%|██████████| 100/100 [00:00<00:00, 1041.68it/s]\n"
     ]
    }
   ],
   "metadata": {}
  },
  {
   "cell_type": "markdown",
   "source": [
    "### Letter GANs"
   ],
   "metadata": {}
  },
  {
   "cell_type": "markdown",
   "source": [
    "![EMNIST Letter Mappings](misc/imgs/EMNIST_Balanced_Mappings.PNG \"EMNIST Letter Mappings\")"
   ],
   "metadata": {}
  },
  {
   "cell_type": "code",
   "execution_count": 5,
   "source": [
    "# 2. Letter Models\r\n",
    "LetterModels = dict()\r\n",
    "letter_nums = [\r\n",
    "    24, # O -> ascii(79) -> 24\r\n",
    "    18, # I -> ascii(73) -> 18\r\n",
    "    35, # Z -> ascii(90) -> 35\r\n",
    "    11, # B -> ascii(66) -> 11\r\n",
    "    28  # S -> ascii(83) -> 28\r\n",
    "]\r\n",
    "for num in letter_nums:\r\n",
    "    # Initialize Model\r\n",
    "    model = MyML.GenerativeAdversarialModel(\r\n",
    "        Data = Letters[\"X\"][num],\r\n",
    "        DataMean = Letters[\"Mean\"][num],\r\n",
    "        DataStd = Letters[\"Std\"][num],\r\n",
    "        no_std = True,\r\n",
    "        Bounds = [0,255],\r\n",
    "        GeneratorLayers = [\r\n",
    "            #MyML.FullyConnectedLayer(784, 50),\r\n",
    "            #MyML.LinearLayer(),\r\n",
    "            MyML.FullyConnectedLayer(784, 784),\r\n",
    "            MyML.LinearLayer()\r\n",
    "        ],\r\n",
    "        DescriminatorLayers = [\r\n",
    "            #MyML.FullyConnectedLayer(784, 50),\r\n",
    "            #MyML.LinearLayer(),\r\n",
    "            MyML.FullyConnectedLayer(784, 1),\r\n",
    "            MyML.SigmoidLayer()\r\n",
    "        ]\r\n",
    "    )\r\n",
    "    # Train Model\r\n",
    "    imgs = model.train(100, 10 ** -20, 10)\r\n",
    "    # Same Training Process in Video\r\n",
    "    save_video(f\"videos/transfer/Pre-Trained-{num}.mp4\", (scale(reshape(img).T) for img in imgs), fps=10)\r\n",
    "    # Store Model in Dictionary\r\n",
    "    NumberModels[num] = model"
   ],
   "outputs": [
    {
     "output_type": "stream",
     "name": "stderr",
     "text": [
      "100%|██████████| 100/100 [00:00<00:00, 512.82it/s]\n",
      "100%|██████████| 100/100 [00:00<00:00, 598.80it/s]\n",
      "100%|██████████| 100/100 [00:00<00:00, 581.39it/s]\n",
      "100%|██████████| 100/100 [00:00<00:00, 598.80it/s]\n",
      "100%|██████████| 100/100 [00:00<00:00, 581.40it/s]\n"
     ]
    }
   ],
   "metadata": {}
  },
  {
   "cell_type": "markdown",
   "source": [
    "### Accessing Pre-Trained Models"
   ],
   "metadata": {}
  },
  {
   "cell_type": "code",
   "execution_count": 6,
   "source": [
    "def getNumberModel(num): return deepcopy(NumberModels[num])\r\n",
    "def getLetterModel(num): return deepcopy(LetterModels[num])"
   ],
   "outputs": [],
   "metadata": {}
  },
  {
   "cell_type": "markdown",
   "source": [
    "## 4. Transfer Learning"
   ],
   "metadata": {}
  },
  {
   "cell_type": "code",
   "execution_count": 7,
   "source": [
    "PositivePairs = {n:l for n,l in zip(nums[:4]+nums[5:], letter_nums)}\r\n",
    "print(PositivePairs)"
   ],
   "outputs": [
    {
     "output_type": "stream",
     "name": "stdout",
     "text": [
      "{0: 24, 1: 18, 2: 35, 3: 11, 5: 28}\n"
     ]
    }
   ],
   "metadata": {}
  },
  {
   "cell_type": "code",
   "execution_count": 8,
   "source": [
    "num = 2\r\n",
    "model_start_number = getNumberModel(num)\r\n",
    "#model_start_number.GeneratorLayers[0].hold = True\r\n",
    "model_start_number.DescriminatorLayers[0].hold = True\r\n",
    "model_start_number.DescriminatorLayers[0].hold = True\r\n",
    "model_start_number.new_data(\r\n",
    "    Letters[\"X\"][PositivePairs[num]],\r\n",
    "    Letters[\"Mean\"][PositivePairs[num]],\r\n",
    "    Letters[\"Std\"][PositivePairs[num]]\r\n",
    ")\r\n",
    "imgs = model_start_number.train(1000, 10 ** -8, 1)\r\n",
    "save_video(f\"positive-{num}-{PositivePairs[num]}.mp4\", (scale(reshape(img).T) for img in imgs), fps=10)"
   ],
   "outputs": [
    {
     "output_type": "stream",
     "name": "stderr",
     "text": [
      "100%|██████████| 1000/1000 [00:00<00:00, 2840.95it/s]\n"
     ]
    }
   ],
   "metadata": {}
  },
  {
   "cell_type": "code",
   "execution_count": 9,
   "source": [
    "NegativePairs = {\r\n",
    "    4: 28,\r\n",
    "    2: 11,\r\n",
    "    0: 18,\r\n",
    "    1: 24,\r\n",
    "    3: 35\r\n",
    "}\r\n",
    "print(NegativePairs)"
   ],
   "outputs": [
    {
     "output_type": "stream",
     "name": "stdout",
     "text": [
      "{4: 28, 2: 11, 0: 18, 1: 24, 3: 35}\n"
     ]
    }
   ],
   "metadata": {}
  },
  {
   "cell_type": "code",
   "execution_count": 10,
   "source": [
    "num = 3\r\n",
    "model_start_number = getNumberModel(num)\r\n",
    "#model_start_number.GeneratorLayers[0].hold = True\r\n",
    "model_start_number.DescriminatorLayers[0].hold = True\r\n",
    "model_start_number.DescriminatorLayers[0].hold = True\r\n",
    "model_start_number.new_data(\r\n",
    "    Letters[\"X\"][NegativePairs[num]],\r\n",
    "    Letters[\"Mean\"][NegativePairs[num]],\r\n",
    "    Letters[\"Std\"][NegativePairs[num]]\r\n",
    ")\r\n",
    "imgs = model_start_number.train(1000, 10 ** -8, 1)\r\n",
    "save_video(f\"negative-{num}-{NegativePairs[num]}.mp4\", (scale(reshape(img).T) for img in imgs), fps=10)"
   ],
   "outputs": [
    {
     "output_type": "stream",
     "name": "stderr",
     "text": [
      "100%|██████████| 1000/1000 [00:00<00:00, 2898.57it/s]\n"
     ]
    }
   ],
   "metadata": {}
  }
 ],
 "metadata": {
  "orig_nbformat": 4,
  "language_info": {
   "name": "python",
   "version": "3.9.5",
   "mimetype": "text/x-python",
   "codemirror_mode": {
    "name": "ipython",
    "version": 3
   },
   "pygments_lexer": "ipython3",
   "nbconvert_exporter": "python",
   "file_extension": ".py"
  },
  "kernelspec": {
   "name": "python3",
   "display_name": "Python 3.9.5 64-bit"
  },
  "interpreter": {
   "hash": "31b25c93536201c0256d575fa373506faf21dd0e6e8eecda7b7a6ee072e3cf8d"
  }
 },
 "nbformat": 4,
 "nbformat_minor": 2
}