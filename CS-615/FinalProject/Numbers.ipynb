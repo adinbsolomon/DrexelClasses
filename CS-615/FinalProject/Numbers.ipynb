{
 "cells": [
  {
   "cell_type": "markdown",
   "source": [
    "## Imports"
   ],
   "metadata": {}
  },
  {
   "cell_type": "code",
   "execution_count": null,
   "source": [
    "import cv2 as cv\r\n",
    "import imageio\r\n",
    "import matplotlib.pyplot as plt\r\n",
    "import numpy as np\r\n",
    "import os\r\n",
    "\r\n",
    "from MyPython import MyCV, MyPickle, CS383\r\n",
    "import MyData\r\n",
    "import MyML"
   ],
   "outputs": [],
   "metadata": {}
  },
  {
   "cell_type": "markdown",
   "source": [
    "## Data Fetching"
   ],
   "metadata": {}
  },
  {
   "cell_type": "code",
   "execution_count": null,
   "source": [
    "# Import Data\r\n",
    "X, Mean, Std = MyData.getNumbers()"
   ],
   "outputs": [],
   "metadata": {}
  },
  {
   "cell_type": "markdown",
   "source": [
    "## Utility Functions"
   ],
   "metadata": {}
  },
  {
   "cell_type": "code",
   "execution_count": null,
   "source": [
    "# Utils\r\n",
    "def verify(img): assert (img.shape in [(784,), (1,784)]), f\"should only get a single image, not {img.shape = }\"\r\n",
    "def reshape(img): return img.reshape(28,28)\r\n",
    "def scale(img): return cv.resize(img, dsize=(280,280), interpolation=cv.INTER_NEAREST)\r\n",
    "\r\n",
    "# Image Display and Insight\r\n",
    "def show_img(img):\r\n",
    "    img = scale(reshape(img))\r\n",
    "    MyCV.show_img(img)\r\n",
    "def show_imgs(imgs): \r\n",
    "    for img in imgs: show_img(img)\r\n",
    "def img_summary(img):\r\n",
    "    verify(img)\r\n",
    "    return {'mean':np.average(img), 'std':np.std(img), 'min':np.min(img), 'max':np.max(img)}\r\n",
    "\r\n",
    "# Video Writing\r\n",
    "DEFAULT_fps = 4\r\n",
    "DEFAULT_mbs = 14\r\n",
    "def save_video(filename, imgs, fps=DEFAULT_fps, mbs=DEFAULT_mbs):\r\n",
    "    imageio.mimwrite(filename, imgs, fps=fps, macro_block_size=mbs)"
   ],
   "outputs": [],
   "metadata": {}
  },
  {
   "cell_type": "markdown",
   "source": [
    "## Model Training (Simple)"
   ],
   "metadata": {}
  },
  {
   "cell_type": "code",
   "execution_count": null,
   "source": [
    "for num in range(10):\r\n",
    "\r\n",
    "    model = MyML.GenerativeAdversarialModel(\r\n",
    "        Data = X[num],\r\n",
    "        DataMean = Mean[num],\r\n",
    "        DataStd = Std[num],\r\n",
    "        no_std = True,\r\n",
    "        Bounds = [0,255],\r\n",
    "        GeneratorLayers = [\r\n",
    "            MyML.FullyConnectedLayer(784, 784),\r\n",
    "            MyML.LinearLayer()\r\n",
    "        ],\r\n",
    "        DescriminatorLayers = [\r\n",
    "            MyML.FullyConnectedLayer(784, 1),\r\n",
    "            MyML.SigmoidLayer()\r\n",
    "        ]\r\n",
    "    )\r\n",
    "    imgs = model.train(100, 10 ** -4, 10)\r\n",
    "\r\n",
    "    save_video(f\"videos/{num}.mp4\", (scale(reshape(img)) for img in imgs), fps=10)\r\n"
   ],
   "outputs": [],
   "metadata": {}
  },
  {
   "cell_type": "markdown",
   "source": [
    "## Model Training (Extra Layer Each)"
   ],
   "metadata": {}
  },
  {
   "cell_type": "code",
   "execution_count": null,
   "source": [
    "for num in range(10):\r\n",
    "\r\n",
    "    model = MyML.GenerativeAdversarialModel(\r\n",
    "        Data = X[num],\r\n",
    "        DataMean = Mean[num],\r\n",
    "        DataStd = Std[num],\r\n",
    "        no_std = True,\r\n",
    "        Bounds = [0,255],\r\n",
    "        GeneratorLayers = [\r\n",
    "            MyML.FullyConnectedLayer(784, 100),\r\n",
    "            MyML.LinearLayer(),\r\n",
    "            MyML.FullyConnectedLayer(100,784),\r\n",
    "            MyML.LinearLayer()\r\n",
    "        ],\r\n",
    "        DescriminatorLayers = [\r\n",
    "            MyML.FullyConnectedLayer(784,100),\r\n",
    "            MyML.LinearLayer(),\r\n",
    "            MyML.FullyConnectedLayer(100, 1),\r\n",
    "            MyML.SigmoidLayer()\r\n",
    "        ]\r\n",
    "    )\r\n",
    "    imgs = model.train(100, 10 ** -8, 10)\r\n",
    "\r\n",
    "    save_video(f\"videos/{num}-extralayer.mp4\", (scale(reshape(img)) for img in imgs), fps=10)\r\n"
   ],
   "outputs": [],
   "metadata": {}
  }
 ],
 "metadata": {
  "orig_nbformat": 4,
  "language_info": {
   "name": "python",
   "version": "3.9.5",
   "mimetype": "text/x-python",
   "codemirror_mode": {
    "name": "ipython",
    "version": 3
   },
   "pygments_lexer": "ipython3",
   "nbconvert_exporter": "python",
   "file_extension": ".py"
  },
  "kernelspec": {
   "name": "python3",
   "display_name": "Python 3.9.5 64-bit"
  },
  "interpreter": {
   "hash": "31b25c93536201c0256d575fa373506faf21dd0e6e8eecda7b7a6ee072e3cf8d"
  }
 },
 "nbformat": 4,
 "nbformat_minor": 2
}